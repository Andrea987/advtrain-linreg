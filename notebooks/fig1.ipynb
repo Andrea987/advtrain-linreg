{
  "nbformat": 4,
  "nbformat_minor": 0,
  "metadata": {
    "colab": {
      "provenance": [],
      "include_colab_link": true
    },
    "kernelspec": {
      "name": "python3",
      "display_name": "Python 3"
    },
    "language_info": {
      "name": "python"
    }
  },
  "cells": [
    {
      "cell_type": "markdown",
      "metadata": {
        "id": "view-in-github",
        "colab_type": "text"
      },
      "source": [
        "<a href=\"https://colab.research.google.com/github/Andrea987/advtrain-linreg/blob/main/notebooks/fig1.ipynb\" target=\"_parent\"><img src=\"https://colab.research.google.com/assets/colab-badge.svg\" alt=\"Open In Colab\"/></a>"
      ]
    },
    {
      "cell_type": "code",
      "execution_count": 62,
      "metadata": {
        "id": "ggDSA-ktpXgr",
        "colab": {
          "base_uri": "https://localhost:8080/"
        },
        "outputId": "3d677f88-5626-46b5-df18-987fabb2f596"
      },
      "outputs": [
        {
          "output_type": "stream",
          "name": "stdout",
          "text": [
            "end block\n"
          ]
        }
      ],
      "source": [
        "from itertools import cycle\n",
        "import numpy as np\n",
        "import matplotlib.pyplot as plt\n",
        "from sklearn.linear_model import lasso_path\n",
        "from sklearn import datasets\n",
        "from sklearn import linear_model\n",
        "from sklearn.experimental import enable_iterative_imputer\n",
        "from sklearn.impute import IterativeImputer\n",
        "import tqdm\n",
        "import cvxpy as cp\n",
        "import numpy as np\n",
        "\n",
        "\n",
        "def compute_q(p):\n",
        "    if p != np.inf and p > 1:\n",
        "        q = p / (p - 1)\n",
        "    elif p == 1:\n",
        "        q = np.inf\n",
        "    else:\n",
        "        q = 1\n",
        "    return q\n",
        "\n",
        "\n",
        "class AdversarialTraining:\n",
        "    def __init__(self, X, y, S_inv, p):  # S is the matrix such that ||S @ Dx||\\leq delta. As a consequence, S_inv appears in the unconstrained problem\n",
        "        m, n = X.shape\n",
        "        q = compute_q(p)\n",
        "        # Formulate problem\n",
        "        param = cp.Variable(n)\n",
        "        print(n)\n",
        "        print(S_inv.shape)\n",
        "        #print(S_inv @ param, \"weeeeeee\", (S_inv @ param).shape)\n",
        "        param_norm = cp.pnorm(S_inv @ param, p=q, axis=0)\n",
        "        print(\"ciao + shapeeeee\", param_norm.shape)\n",
        "        adv_radius = cp.Parameter(name='adv_radius', nonneg=True)\n",
        "        print(\"ciao2\")\n",
        "        abs_error = cp.abs(X @ param - y)\n",
        "        print(\"ciao3\")\n",
        "        adv_loss = 1 / m * cp.sum((abs_error + adv_radius * param_norm) ** 2)\n",
        "        print(\"ciao4\")\n",
        "        prob = cp.Problem(cp.Minimize(adv_loss))\n",
        "        self.prob = prob\n",
        "        self.adv_radius = adv_radius\n",
        "        self.param = param\n",
        "        self.warm_start = False\n",
        "\n",
        "    def __call__(self, adv_radius, **kwargs):\n",
        "        try:\n",
        "            self.adv_radius.value = adv_radius\n",
        "            self.prob.solve(warm_start=self.warm_start, **kwargs)\n",
        "            v = self.param.value\n",
        "        except:\n",
        "            v = np.zeros(self.param.shape)\n",
        "        return v\n",
        "\n",
        "\n",
        "def get_lasso_path(X, y, eps_lasso=1e-5):\n",
        "    alphas, coefs, _ = lasso_path(X, y, eps=eps_lasso)\n",
        "    coefs= np.concatenate([np.zeros([X.shape[1], 1]), coefs], axis=1)\n",
        "    alphas = np.concatenate([1e2 * np.ones([1]), alphas], axis=0)\n",
        "    return alphas, coefs, []\n",
        "\n",
        "\n",
        "def get_path(X, y, estimator, amax, eps=1e-5, n_alphas=200):\n",
        "    _, m = X.shape\n",
        "    amin = eps * amax\n",
        "    alphas = np.logspace(np.log10(amin), np.log10(amax), n_alphas)\n",
        "    coefs_ = []\n",
        "    for a in tqdm.tqdm(alphas):\n",
        "        #print(\"alpha  \", a)\n",
        "        coefs = estimator(X, y, a)\n",
        "        coefs_.append(coefs if coefs is not None else np.zeros(m))\n",
        "    return alphas, np.stack((coefs_)).T\n",
        "\n",
        "\n",
        "def plot_coefs(alphas, coefs, ax):\n",
        "    print(\"you are printing coefs in function of 1/alphas\")\n",
        "    colors = cycle([\"b\", \"r\", \"g\", \"c\", \"k\"])\n",
        "    for coef_l, c in zip(coefs, colors):\n",
        "        ax.semilogx(1/alphas, coef_l, c=c)\n",
        "        #ax.plot(1/alphas, coef_l, c=c)\n",
        "\n",
        "\n",
        "def plot_coefs_l1norm(coefs, ax):\n",
        "    print(\"you are printing coeff in function of l1 norm\")\n",
        "    colors = cycle([\"b\", \"r\", \"g\", \"c\", \"k\"])\n",
        "    l1norm = np.abs(coefs).mean(axis=0)\n",
        "    #print(\"coef \", coefs)\n",
        "    for coef_l, c in zip(coefs, colors):\n",
        "        ax.plot(l1norm, coef_l, c=c)\n",
        "\n",
        "#X, y = datasets.load_diabetes(return_X_y=True)\n",
        "#print(X.shape, y.shape)\n",
        "# Standardize data\n",
        "\n",
        "\n",
        "#M = np.sum(masks, axis=1)\n",
        "#X_nan = X.copy()\n",
        "#X_nan[masks == 1] = np.nan\n",
        "\n",
        "#X = multiple_imputation(1, X_nan)\n",
        "print(\"end block\")\n"
      ]
    },
    {
      "cell_type": "code",
      "source": [
        "# imputation's block\n",
        "\n",
        "def clear_dataset(x, masks):\n",
        "  # remove observations full NaN\n",
        "  M = np.sum(1 - masks, axis=1) > 0\n",
        "  return x[M, :], masks[M, :]\n",
        "\n",
        "\n",
        "def single_imputation(X_nan, impute_estimator):\n",
        "    ice = IterativeImputer(estimator=impute_estimator)\n",
        "    return ice.fit_transform(X_nan)\n",
        "\n",
        "\n",
        "def multiple_imputation(nbr_mi, X_nan):\n",
        "    n, d = X_nan.shape\n",
        "    res = np.zeros((nbr_mi, n, d))\n",
        "    for i in range(nbr_mi):\n",
        "       n_i = np.random.randint(0, 1000)\n",
        "       ice = IterativeImputer(random_state=n_i, max_iter=50, sample_posterior=True)\n",
        "       res[i, :, :] = ice.fit_transform(X_nan)\n",
        "       #print(\"fin res \", res)\n",
        "    return res\n",
        "\n",
        "\n",
        "def imputation_elliptic(mu, sigma, x, masks):\n",
        "  # mu, mean elliptical distribution (,d)\n",
        "  # sigma, cov matrix elliptical distribution (d, d)\n",
        "  # x: dataset (n, d)\n",
        "  # masks: mask data, 0 seen, 1 missing\n",
        "  n, d = x.shape\n",
        "  print(n, d)\n",
        "  x_imp = x.copy()\n",
        "  #print(\"x_imp clean\", x_imp)\n",
        "  for i in range(n):\n",
        "    if not (masks[i, :] == 0).all():  # if we have at least one missing component\n",
        "      #print(\"nbr : \", i)\n",
        "      x_c = x[i, :]\n",
        "      m_bool = (masks[i, :] == 0)  # True seen, False missing\n",
        "      sigma_aa_inv = np.linalg.inv(sigma[m_bool, :][:, m_bool])\n",
        "      sigma_ma = sigma[~m_bool, :][:, m_bool]\n",
        "      mu_cond = mu[~m_bool] + sigma_ma @ sigma_aa_inv @ (x_c[m_bool] - mu[m_bool])\n",
        "      x_imp[i, ~m_bool] = mu_cond\n",
        "  return x_imp\n",
        "\n"
      ],
      "metadata": {
        "id": "qyWskXpdOW9e"
      },
      "execution_count": 57,
      "outputs": []
    },
    {
      "cell_type": "code",
      "source": [
        "# define observations\n",
        "\n",
        "n_observation = 10\n",
        "dim = 3\n",
        "#cov = np.random.randint(low=1, high=10, size=(d, d))\n",
        "#cov = np.random.randn(d, d)\n",
        "cov = cov.T @ cov + np.eye(dim) * 1e-5\n",
        "#print(cov)\n",
        "#print(np.linalg.eigvalsh(cov))\n",
        "cov = np.eye(dim)\n",
        "X_orig = np.random.rand(n_observation, dim) @ cov\n",
        "#X_orig = np.random.randint(low=1, high=4, size=(n, d)) * 1.0\n",
        "#X -= X.mean(axis=0)\n",
        "#X /= X.std(axis=0)\n",
        "b = np.random.rand(dim)\n",
        "\n",
        "#L = np.linalg.cholesky(S)  # return L such that S = LL.T\n",
        "#L_inv = np.linalg.inv(L)\n",
        "#S_inv = L_inv.T @ L_inv\n",
        "\n",
        "masks = np.random.binomial(1, 0.25, (n_observation, dim))  # 1 missing, 0 seen\n",
        "\n",
        "X_orig, masks = clear_dataset(X_orig, masks)\n",
        "print(\"final shape \", X_orig.shape)\n",
        "y = X_orig @ b\n",
        "X_nan = X_orig.copy()\n",
        "X_nan[masks == 1] = np.nan\n",
        "print(\"end block\")"
      ],
      "metadata": {
        "colab": {
          "base_uri": "https://localhost:8080/"
        },
        "id": "ElCvHxBiO_2t",
        "outputId": "71583ce7-0256-4aeb-9758-95c0ee2a95d8"
      },
      "execution_count": 58,
      "outputs": [
        {
          "output_type": "stream",
          "name": "stdout",
          "text": [
            "final shape  (10, 3)\n",
            "end block\n"
          ]
        }
      ]
    },
    {
      "cell_type": "code",
      "source": [
        "## original lasso\n",
        "fig, ax = plt.subplots(num='lasso')\n",
        "alphas_lasso, coefs_lasso, _ = get_lasso_path(X_orig, y)\n",
        "plot_coefs_l1norm(coefs_lasso, ax)"
      ],
      "metadata": {
        "colab": {
          "base_uri": "https://localhost:8080/",
          "height": 1000
        },
        "id": "ZA7J67yAuQM8",
        "outputId": "9826858f-987f-4cb6-a79a-e6e7534fc8d4"
      },
      "execution_count": 59,
      "outputs": [
        {
          "output_type": "stream",
          "name": "stdout",
          "text": [
            "you are printing coeff in function of l1 norm\n",
            "coef  [[0.00000000e+00 0.00000000e+00 0.00000000e+00 0.00000000e+00\n",
            "  0.00000000e+00 0.00000000e+00 0.00000000e+00 0.00000000e+00\n",
            "  0.00000000e+00 2.69842165e-02 1.10756101e-01 1.85315771e-01\n",
            "  2.51704995e-01 3.10805703e-01 3.63418044e-01 4.10239444e-01\n",
            "  4.51935430e-01 4.89053856e-01 5.22097239e-01 5.51498431e-01\n",
            "  5.77686291e-01 6.00999169e-01 6.21737009e-01 6.40213689e-01\n",
            "  6.56662003e-01 6.71304540e-01 6.84324941e-01 6.95930349e-01\n",
            "  7.06261813e-01 7.15459039e-01 7.23633437e-01 7.30923264e-01\n",
            "  7.37413032e-01 7.43190324e-01 7.48322352e-01 7.52901548e-01\n",
            "  7.56978426e-01 7.60598651e-01 7.63829760e-01 7.66706866e-01\n",
            "  7.69262979e-01 7.71542310e-01 7.73572639e-01 7.75380148e-01\n",
            "  7.76990939e-01 7.78421232e-01 7.79696224e-01 7.80843945e-01\n",
            "  7.81850359e-01 7.82748474e-01 7.83548517e-01 7.84288190e-01\n",
            "  7.84917015e-01 7.85477653e-01 7.85977748e-01 7.86423257e-01\n",
            "  7.86819940e-01 7.87173093e-01 7.87522604e-01 7.87801276e-01\n",
            "  7.88045346e-01 7.88262940e-01 7.88457172e-01 7.88630371e-01\n",
            "  7.88784684e-01 7.88922109e-01 7.89044469e-01 7.89153403e-01\n",
            "  7.89250381e-01 7.89336714e-01 7.89413569e-01 7.89504274e-01\n",
            "  7.89571051e-01 7.89624757e-01 7.89670379e-01 7.89710281e-01\n",
            "  7.89745661e-01 7.89777210e-01 7.89805395e-01 7.89830577e-01\n",
            "  7.89853066e-01 7.89873137e-01 7.89891039e-01 7.89906998e-01\n",
            "  7.89921220e-01 7.89933889e-01 7.89945174e-01 7.89955223e-01\n",
            "  7.89964172e-01 7.89972139e-01 7.89979233e-01 7.89985549e-01\n",
            "  7.89991171e-01 7.89996177e-01 7.90000633e-01 7.90004600e-01\n",
            "  7.90008131e-01 7.90011275e-01 7.90014074e-01 7.90016565e-01\n",
            "  7.90018783e-01]\n",
            " [0.00000000e+00 2.37498181e-16 2.00394837e-01 3.78789344e-01\n",
            "  5.37598826e-01 6.78973422e-01 7.82689196e-01 8.10245198e-01\n",
            "  8.34865582e-01 8.52949384e-01 8.60833131e-01 8.67900707e-01\n",
            "  8.74143006e-01 8.79699938e-01 8.84646803e-01 8.89100510e-01\n",
            "  8.93015428e-01 8.96500453e-01 8.99602875e-01 9.02414988e-01\n",
            "  9.04868239e-01 9.07052005e-01 9.09052682e-01 9.10777350e-01\n",
            "  9.12312385e-01 9.13678895e-01 9.14951890e-01 9.16029106e-01\n",
            "  9.16987579e-01 9.17840824e-01 9.18656342e-01 9.19327182e-01\n",
            "  9.19923584e-01 9.20454499e-01 9.20981989e-01 9.21398033e-01\n",
            "  9.21767103e-01 9.22155287e-01 9.22443654e-01 9.22697988e-01\n",
            "  9.22988083e-01 9.23187106e-01 9.23359993e-01 9.23513657e-01\n",
            "  9.23709699e-01 9.23832370e-01 9.23934863e-01 9.24085326e-01\n",
            "  9.24172758e-01 9.24239335e-01 9.24296766e-01 9.24398901e-01\n",
            "  9.24459519e-01 9.24498297e-01 9.24528435e-01 9.24554157e-01\n",
            "  9.24576787e-01 9.24596870e-01 9.24643354e-01 9.24678105e-01\n",
            "  9.24697841e-01 9.24709247e-01 9.24716643e-01 9.24722088e-01\n",
            "  9.24726485e-01 9.24730223e-01 9.24733483e-01 9.24736359e-01\n",
            "  9.24738910e-01 9.24741178e-01 9.24743194e-01 9.24751751e-01\n",
            "  9.24762427e-01 9.24770816e-01 9.24776187e-01 9.24779016e-01\n",
            "  9.24780020e-01 9.24779835e-01 9.24778938e-01 9.24777656e-01\n",
            "  9.24776202e-01 9.24774708e-01 9.24773253e-01 9.24771877e-01\n",
            "  9.24770604e-01 9.24769439e-01 9.24768383e-01 9.24767432e-01\n",
            "  9.24766577e-01 9.24765812e-01 9.24765128e-01 9.24764517e-01\n",
            "  9.24763973e-01 9.24763487e-01 9.24763055e-01 9.24762669e-01\n",
            "  9.24762326e-01 9.24762020e-01 9.24761748e-01 9.24761506e-01\n",
            "  9.24761290e-01]\n",
            " [0.00000000e+00 0.00000000e+00 0.00000000e+00 0.00000000e+00\n",
            "  0.00000000e+00 0.00000000e+00 3.08939135e-02 1.48502806e-01\n",
            "  2.53117960e-01 3.34248876e-01 3.79652902e-01 4.20035877e-01\n",
            "  4.56021942e-01 4.88057321e-01 5.16575699e-01 5.41926031e-01\n",
            "  5.64530369e-01 5.84653160e-01 6.02566772e-01 6.18476040e-01\n",
            "  6.32676296e-01 6.45317692e-01 6.56528362e-01 6.66550949e-01\n",
            "  6.75473419e-01 6.83416337e-01 6.90443895e-01 6.96742928e-01\n",
            "  7.02350772e-01 7.07342962e-01 7.11743391e-01 7.15703827e-01\n",
            "  7.19230046e-01 7.22369146e-01 7.25119711e-01 7.27611241e-01\n",
            "  7.29830192e-01 7.31756149e-01 7.33518253e-01 7.35088662e-01\n",
            "  7.36431301e-01 7.37678560e-01 7.38792103e-01 7.39783574e-01\n",
            "  7.40610957e-01 7.41397082e-01 7.42102058e-01 7.42668108e-01\n",
            "  7.43223401e-01 7.43726780e-01 7.44176273e-01 7.44513928e-01\n",
            "  7.44859299e-01 7.45180171e-01 7.45469250e-01 7.45727424e-01\n",
            "  7.45957452e-01 7.46162272e-01 7.46298222e-01 7.46443979e-01\n",
            "  7.46586292e-01 7.46718442e-01 7.46838306e-01 7.46945887e-01\n",
            "  7.47041996e-01 7.47127684e-01 7.47204014e-01 7.47271983e-01\n",
            "  7.47332498e-01 7.47386371e-01 7.47434331e-01 7.47458024e-01\n",
            "  7.47484346e-01 7.47512098e-01 7.47539979e-01 7.47566998e-01\n",
            "  7.47592518e-01 7.47616193e-01 7.47637882e-01 7.47657580e-01\n",
            "  7.47675361e-01 7.47691343e-01 7.47705667e-01 7.47718477e-01\n",
            "  7.47729918e-01 7.47740125e-01 7.47749226e-01 7.47757337e-01\n",
            "  7.47764563e-01 7.47770998e-01 7.47776729e-01 7.47781832e-01\n",
            "  7.47786376e-01 7.47790421e-01 7.47794023e-01 7.47797229e-01\n",
            "  7.47800083e-01 7.47802624e-01 7.47804887e-01 7.47806900e-01\n",
            "  7.47808693e-01]]\n"
          ]
        },
        {
          "output_type": "display_data",
          "data": {
            "text/plain": [
              "<Figure size 640x480 with 1 Axes>"
            ],
            "image/png": "[encoded data removed]"
          },
          "metadata": {}
        }
      ]
    },
    {
      "cell_type": "code",
      "source": [
        "# training with original dataset X_orig\n",
        "fig, ax = plt.subplots(num='advtrain_linf')\n",
        "sd_orig = np.std(X_orig, axis=0)\n",
        "print(\"sd_orig \\n\", sd_orig)\n",
        "S_inv_orig = np.diag(1 / sd_orig)\n",
        "S_inv_orig = np.array([S_inv_orig] * n)\n",
        "S_inv_orig = np.diag(1 / sd_orig)\n",
        "print(\"orig shape\\n \", S_inv_orig.shape)\n",
        "print(\"orig shape\\n times vector\\n\", (S_inv_orig @ np.arange(d)).shape)\n",
        "#S_inv_orig = np.eye(X_orig.shape[0])\n",
        "linfadvtrain = AdversarialTraining(X_orig, y, S_inv_orig, p=np.inf)\n",
        "estimator = lambda X, y, a:  linfadvtrain(adv_radius=a)\n",
        "alphas_adv, coefs_advtrain_linf  = get_path(X_orig, y, estimator, 1e1)\n",
        "plot_coefs_l1norm(coefs_advtrain_linf, ax)\n",
        "#plot_coefs(alphas_adv, coefs_advtrain_linf, ax)"
      ],
      "metadata": {
        "id": "N1uZArXkprXQ",
        "colab": {
          "base_uri": "https://localhost:8080/",
          "height": 691
        },
        "outputId": "4f669d7f-6d04-4f38-ec16-208612cf26ab"
      },
      "execution_count": 63,
      "outputs": [
        {
          "output_type": "stream",
          "name": "stdout",
          "text": [
            "sd_orig \n",
            " [0.29433494 0.294781   0.28107811]\n",
            "orig shape\n",
            "  (3, 3)\n",
            "orig shape\n",
            " times vector\n",
            " (3,)\n",
            "3\n",
            "(3, 3)\n",
            "ciao + shapeeeee ()\n",
            "ciao2\n",
            "ciao3\n",
            "ciao4\n"
          ]
        },
        {
          "output_type": "stream",
          "name": "stderr",
          "text": [
            "100%|██████████| 200/200 [00:01<00:00, 179.68it/s]\n"
          ]
        },
        {
          "output_type": "stream",
          "name": "stdout",
          "text": [
            "you are printing coeff in function of l1 norm\n"
          ]
        },
        {
          "output_type": "display_data",
          "data": {
            "text/plain": [
              "<Figure size 640x480 with 1 Axes>"
            ],
            "image/png": "[encoded data removed]"
          },
          "metadata": {}
        }
      ]
    },
    {
      "cell_type": "code",
      "source": [
        "## random forest imputer\n",
        "from sklearn.ensemble import RandomForestRegressor\n",
        "rf_estimator = RandomForestRegressor(n_estimators=4, max_depth=10, bootstrap=True, max_samples=0.5, n_jobs=2, random_state=0)\n",
        "\n",
        "X_rf = single_imputation(X_nan, rf_estimator)\n",
        "print(X_rf.shape)\n",
        "sd_rf = np.std(X_rf, axis=0)\n",
        "S_inv_rf = np.diag(1 / sd_rf)\n",
        "print(\"std_orig: \\n\", np.std(X_orig, axis=0))\n",
        "print(\"std rf\\n \", sd_rf)\n",
        "fig, ax = plt.subplots(num='advtrain_linf_rf')\n",
        "linfadvtrain_rf = AdversarialTraining(X_rf, y, S_inv_rf, p=np.inf)\n",
        "estimator_rf = lambda X, y, a:  linfadvtrain_rf(adv_radius=a)\n",
        "alphas_adv, coefs_advtrain_linf_rf  = get_path(X_rf, y, estimator_rf, 1e1)\n",
        "plot_coefs_l1norm(coefs_advtrain_linf_rf, ax)\n"
      ],
      "metadata": {
        "colab": {
          "base_uri": "https://localhost:8080/"
        },
        "id": "uSgnV3aVXL1f",
        "outputId": "2cd125b5-3748-4fbf-e50d-f542dba9168e"
      },
      "execution_count": null,
      "outputs": [
        {
          "output_type": "stream",
          "name": "stderr",
          "text": [
            "/usr/local/lib/python3.11/dist-packages/sklearn/impute/_iterative.py:895: ConvergenceWarning: [IterativeImputer] Early stopping criterion not reached.\n",
            "  warnings.warn(\n"
          ]
        },
        {
          "output_type": "stream",
          "name": "stdout",
          "text": [
            "(300, 8)\n",
            "std_orig: \n",
            " [1.89437779 2.6366409  2.01401922 2.72839671 3.15527389 3.08809998\n",
            " 2.27970936 5.44525999]\n",
            "std rf\n",
            "  [1.7979924  2.55299921 1.96864074 2.63939221 3.0035545  2.98051431\n",
            " 2.10802015 5.08045866]\n"
          ]
        },
        {
          "output_type": "stream",
          "name": "stderr",
          "text": [
            " 83%|████████▎ | 166/200 [00:12<00:18,  1.81it/s]"
          ]
        }
      ]
    },
    {
      "cell_type": "code",
      "source": [
        "## iterative imputer Bayesian Ridge\n",
        "\n",
        "from sklearn.linear_model import BayesianRidge\n",
        "br_estimator = BayesianRidge()\n",
        "\n",
        "X_br = single_imputation(X_nan, br_estimator)\n",
        "sd_br = np.std(X_br, axis=0)\n",
        "S_inv_br = np.diag(1 / sd_br)\n",
        "print(\"std_orig: \\n\", np.std(X_orig, axis=0))\n",
        "print(\"std  br\\n \", sd_br)\n",
        "\n",
        "fig, ax = plt.subplots(num='advtrain_linf_br')\n",
        "linfadvtrain_br = AdversarialTraining(X_br, y, S_inv_br, p=np.inf)\n",
        "estimator_br = lambda X, y, a:  linfadvtrain_br(adv_radius=a)\n",
        "alphas_adv, coefs_advtrain_linf_br  = get_path(X_br, y, estimator_br, 1e4)\n",
        "plot_coefs_l1norm(coefs_advtrain_linf_br, ax)"
      ],
      "metadata": {
        "id": "pgNaP74gWAga"
      },
      "execution_count": null,
      "outputs": []
    },
    {
      "cell_type": "code",
      "source": [
        "## mean imputation\n",
        "from sklearn.impute import SimpleImputer\n",
        "\n",
        "imp_mean = SimpleImputer(missing_values=np.nan, strategy='mean')\n",
        "X_mean = imp_mean.fit_transform(X_nan)\n",
        "sd_mean = np.std(X_mean, axis=0)\n",
        "print(sd_mean)\n",
        "S_inv_mean = np.diag(1 / sd_mean)\n",
        "\n",
        "fig, ax = plt.subplots(num='advtrain_linf_mean')\n",
        "linfadvtrain_mean = AdversarialTraining(X_mean, y, S_inv_mean, p=np.inf)\n",
        "estimator_mean = lambda X, y, a:  linfadvtrain_mean(adv_radius=a)\n",
        "alphas_adv, coefs_advtrain_linf_mean  = get_path(X_mean, y, estimator_mean, 1e1)\n",
        "plot_coefs_l1norm(coefs_advtrain_linf_mean, ax)\n"
      ],
      "metadata": {
        "id": "u0kpCJCkFbcI"
      },
      "execution_count": null,
      "outputs": []
    },
    {
      "cell_type": "code",
      "source": [
        "# imputation elliptic\n",
        "\n",
        "mu = np.nanmean(X_nan, axis=0)\n",
        "print(\"means \", mu)\n",
        "delta = np.mean(masks) # parameter missingness\n",
        "print(\"delta \", delta)\n",
        "X_0 = np.nan_to_num(X_nan)\n",
        "print(\"nbr obs\", X_0.shape[0])\n",
        "S_ellp =  X_0.T @ X_0 / X_0.shape[0]\n",
        "S_ellp = (1/d - 1/(d**2)) * np.diag(np.diag(S_ellp)) + 1/(d**2) * S_ellp\n",
        "print(\"eig cov \", np.linalg.eigvalsh(S_ellp))\n",
        "X_ellp = imputation_elliptic(mu, S_ellp, X_nan, masks)\n",
        "S_inv_ellp = np.linalg.inv(S_ellp)  # other variance\n",
        "sd_inv_ellp = np.std(X_ellp, axis=0)\n",
        "print(\"sd ellp\", sd_inv_ellp)\n",
        "\n",
        "fig, ax = plt.subplots(num='advtrain_linf_ellp')\n",
        "linfadvtrain_ellp = AdversarialTraining(X_ellp, y, S_inv_ellp, p=np.inf)\n",
        "estimator_ellp = lambda X, y, a:  linfadvtrain_ellp(adv_radius=a)\n",
        "alphas_adv, coefs_advtrain_linf_ellp  = get_path(X_ellp, y, estimator_ellp, 1e1)\n",
        "plot_coefs_l1norm(coefs_advtrain_linf_ellp, ax)\n"
      ],
      "metadata": {
        "id": "2RYR4_BJhXjv"
      },
      "execution_count": null,
      "outputs": []
    },
    {
      "cell_type": "code",
      "source": [
        "# mi bayesian ridge\n",
        "\n",
        "number_multiple_imputed_datasets = 5\n",
        "X_mi = np.vstack(multiple_imputation(number_multiple_imputed_datasets, X_nan))\n",
        "sd_mi = np.std(X_mi, axis=0)\n",
        "print(\"std_orig: \\n\", np.std(X_orig, axis=0))\n",
        "print(\"sd_mi\\n \", sd_mi)\n",
        "S_inv_mi = np.diag(1 / sd_mi)\n",
        "yy = np.concatenate([y] * number_multiple_imputed_datasets)\n",
        "\n",
        "fig, ax = plt.subplots(num='advtrain_linf_mi')\n",
        "linfadvtrain_mi = AdversarialTraining(X_mi, yy, S_inv_mi, p=np.inf)\n",
        "estimator_mi = lambda X, y, a:  linfadvtrain_mi(adv_radius=a)\n",
        "alphas_adv, coefs_advtrain_linf_mi  = get_path(X_mi, yy, estimator_mi, 1e1)\n",
        "plot_coefs_l1norm(coefs_advtrain_linf_mi, ax)\n",
        "\n",
        "\n",
        "\n"
      ],
      "metadata": {
        "id": "6mlM-FR-OfL4"
      },
      "execution_count": null,
      "outputs": []
    },
    {
      "cell_type": "code",
      "source": [
        "Observations:\n",
        "\n",
        "-) If the data are np.random.randn(), all the graphs looks similar\n",
        "-) very caotic results if we multiply by a cov matrix\n"
      ],
      "metadata": {
        "id": "FgxEbR071wT-"
      },
      "execution_count": null,
      "outputs": []
    }
  ]
}