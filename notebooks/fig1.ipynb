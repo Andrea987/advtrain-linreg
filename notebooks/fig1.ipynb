{
  "nbformat": 4,
  "nbformat_minor": 0,
  "metadata": {
    "colab": {
      "provenance": [],
      "include_colab_link": true
    },
    "kernelspec": {
      "name": "python3",
      "display_name": "Python 3"
    },
    "language_info": {
      "name": "python"
    }
  },
  "cells": [
    {
      "cell_type": "markdown",
      "metadata": {
        "id": "view-in-github",
        "colab_type": "text"
      },
      "source": [
        "<a href=\"https://colab.research.google.com/github/Andrea987/advtrain-linreg/blob/main/notebooks/fig1.ipynb\" target=\"_parent\"><img src=\"https://colab.research.google.com/assets/colab-badge.svg\" alt=\"Open In Colab\"/></a>"
      ]
    },
    {
      "cell_type": "code",
      "execution_count": 78,
      "metadata": {
        "id": "ggDSA-ktpXgr",
        "colab": {
          "base_uri": "https://localhost:8080/"
        },
        "outputId": "7d01d5cd-f51f-4c82-d96d-d7445424849e"
      },
      "outputs": [
        {
          "output_type": "stream",
          "name": "stdout",
          "text": [
            "end block\n"
          ]
        }
      ],
      "source": [
        "from itertools import cycle\n",
        "import numpy as np\n",
        "import matplotlib.pyplot as plt\n",
        "from sklearn.linear_model import lasso_path\n",
        "from sklearn import datasets\n",
        "from sklearn import linear_model\n",
        "from sklearn.experimental import enable_iterative_imputer\n",
        "from sklearn.impute import IterativeImputer\n",
        "import tqdm\n",
        "import cvxpy as cp\n",
        "import numpy as np\n",
        "\n",
        "\n",
        "def compute_q(p):\n",
        "    if p != np.inf and p > 1:\n",
        "        q = p / (p - 1)\n",
        "    elif p == 1:\n",
        "        q = np.inf\n",
        "    else:\n",
        "        q = 1\n",
        "    return q\n",
        "\n",
        "\n",
        "class AdversarialTraining:\n",
        "    def __init__(self, X, y, S_inv, p):  # S is the matrix such that ||S @ Dx||\\leq delta. As a consequence, S_inv appears in the unconstrained problem\n",
        "        m, n = X.shape\n",
        "        q = compute_q(p)\n",
        "        # Formulate problem\n",
        "        param = cp.Variable(n)\n",
        "        print(n)\n",
        "        print(S_inv.shape)\n",
        "        #print(S_inv @ param, \"weeeeeee\", (S_inv @ param).shape)\n",
        "        param_norm = cp.pnorm(S_inv @ param, p=q, axis=1)\n",
        "        print(\"ciao + shapeeeee\", param_norm.shape)\n",
        "        print(\"param_norm + shapeeeee\", param_norm)\n",
        "        adv_radius = cp.Parameter(name='adv_radius', nonneg=True)\n",
        "        print(\"ciao2\")\n",
        "        abs_error = cp.abs(X @ param - y)\n",
        "        print(\"ciao3\")\n",
        "        adv_loss = 1 / m * cp.sum((abs_error + adv_radius * param_norm) ** 2)\n",
        "        print(\"ciao4\")\n",
        "        prob = cp.Problem(cp.Minimize(adv_loss))\n",
        "        self.prob = prob\n",
        "        self.adv_radius = adv_radius\n",
        "        self.param = param\n",
        "        self.warm_start = False\n",
        "\n",
        "    def __call__(self, adv_radius, **kwargs):\n",
        "        try:\n",
        "            self.adv_radius.value = adv_radius\n",
        "            self.prob.solve(warm_start=self.warm_start, **kwargs)\n",
        "            v = self.param.value\n",
        "        except:\n",
        "            v = np.zeros(self.param.shape)\n",
        "        return v\n",
        "\n",
        "\n",
        "def get_lasso_path(X, y, eps_lasso=1e-5):\n",
        "    alphas, coefs, _ = lasso_path(X, y, eps=eps_lasso)\n",
        "    coefs= np.concatenate([np.zeros([X.shape[1], 1]), coefs], axis=1)\n",
        "    alphas = np.concatenate([1e2 * np.ones([1]), alphas], axis=0)\n",
        "    return alphas, coefs, []\n",
        "\n",
        "\n",
        "def get_path(X, y, estimator, amax, eps=1e-5, n_alphas=200):\n",
        "    _, m = X.shape\n",
        "    amin = eps * amax\n",
        "    alphas = np.logspace(np.log10(amin), np.log10(amax), n_alphas)\n",
        "    coefs_ = []\n",
        "    for a in tqdm.tqdm(alphas):\n",
        "        #print(\"alpha  \", a)\n",
        "        coefs = estimator(X, y, a)\n",
        "        coefs_.append(coefs if coefs is not None else np.zeros(m))\n",
        "    return alphas, np.stack((coefs_)).T\n",
        "\n",
        "\n",
        "def plot_coefs(alphas, coefs, ax):\n",
        "    print(\"you are printing coefs in function of 1/alphas\")\n",
        "    colors = cycle([\"b\", \"r\", \"g\", \"c\", \"k\"])\n",
        "    for coef_l, c in zip(coefs, colors):\n",
        "        ax.semilogx(1/alphas, coef_l, c=c)\n",
        "        #ax.plot(1/alphas, coef_l, c=c)\n",
        "\n",
        "\n",
        "def plot_coefs_l1norm(coefs, ax):\n",
        "    print(\"you are printing coeff in function of l1 norm\")\n",
        "    colors = cycle([\"b\", \"r\", \"g\", \"c\", \"k\"])\n",
        "    l1norm = np.abs(coefs).mean(axis=0)\n",
        "    #print(\"coef \", coefs)\n",
        "    for coef_l, c in zip(coefs, colors):\n",
        "        ax.plot(l1norm, coef_l, c=c)\n",
        "\n",
        "#X, y = datasets.load_diabetes(return_X_y=True)\n",
        "#print(X.shape, y.shape)\n",
        "# Standardize data\n",
        "\n",
        "\n",
        "#M = np.sum(masks, axis=1)\n",
        "#X_nan = X.copy()\n",
        "#X_nan[masks == 1] = np.nan\n",
        "\n",
        "#X = multiple_imputation(1, X_nan)\n",
        "print(\"end block\")\n"
      ]
    },
    {
      "cell_type": "code",
      "source": [
        "# imputation's block\n",
        "\n",
        "def clear_dataset(x, masks):\n",
        "  # remove observations full NaN\n",
        "  M = np.sum(1 - masks, axis=1) > 0\n",
        "  return x[M, :], masks[M, :]\n",
        "\n",
        "\n",
        "def single_imputation(X_nan, impute_estimator):\n",
        "    ice = IterativeImputer(estimator=impute_estimator)\n",
        "    return ice.fit_transform(X_nan)\n",
        "\n",
        "\n",
        "def multiple_imputation(nbr_mi, X_nan):\n",
        "    n, d = X_nan.shape\n",
        "    res = np.zeros((nbr_mi, n, d))\n",
        "    for i in range(nbr_mi):\n",
        "       n_i = np.random.randint(0, 1000)\n",
        "       ice = IterativeImputer(random_state=n_i, max_iter=50, sample_posterior=True)\n",
        "       res[i, :, :] = ice.fit_transform(X_nan)\n",
        "       #print(\"fin res \", res)\n",
        "    return res\n",
        "\n",
        "\n",
        "def imputation_elliptic(mu, sigma, x, masks):\n",
        "  # mu, mean elliptical distribution (,d)\n",
        "  # sigma, cov matrix elliptical distribution (d, d)\n",
        "  # x: dataset (n, d)\n",
        "  # masks: mask data, 0 seen, 1 missing\n",
        "  n, d = x.shape\n",
        "  print(n, d)\n",
        "  x_imp = x.copy()\n",
        "  #print(\"x_imp clean\", x_imp)\n",
        "  for i in range(n):\n",
        "    if not (masks[i, :] == 0).all():  # if we have at least one missing component\n",
        "      #print(\"nbr : \", i)\n",
        "      x_c = x[i, :]\n",
        "      m_bool = (masks[i, :] == 0)  # True seen, False missing\n",
        "      sigma_aa_inv = np.linalg.inv(sigma[m_bool, :][:, m_bool])\n",
        "      sigma_ma = sigma[~m_bool, :][:, m_bool]\n",
        "      mu_cond = mu[~m_bool] + sigma_ma @ sigma_aa_inv @ (x_c[m_bool] - mu[m_bool])\n",
        "      x_imp[i, ~m_bool] = mu_cond\n",
        "  return x_imp\n",
        "\n"
      ],
      "metadata": {
        "id": "qyWskXpdOW9e"
      },
      "execution_count": 57,
      "outputs": []
    },
    {
      "cell_type": "code",
      "source": [
        "# define observations\n",
        "\n",
        "n_observationsss = 10\n",
        "dim = 3\n",
        "#cov = np.random.randint(low=1, high=10, size=(d, d))\n",
        "#cov = np.random.randn(d, d)\n",
        "#cov = cov.T @ cov + np.eye(dim) * 1e-5\n",
        "#print(cov)\n",
        "#print(np.linalg.eigvalsh(cov))\n",
        "cov = np.eye(dim)\n",
        "X_orig = np.random.rand(n_observationsss, dim) @ cov\n",
        "#X_orig = np.random.randint(low=1, high=4, size=(n, d)) * 1.0\n",
        "#X -= X.mean(axis=0)\n",
        "#X /= X.std(axis=0)\n",
        "b = np.random.rand(dim)\n",
        "\n",
        "#L = np.linalg.cholesky(S)  # return L such that S = LL.T\n",
        "#L_inv = np.linalg.inv(L)\n",
        "#S_inv = L_inv.T @ L_inv\n",
        "\n",
        "masks = np.random.binomial(1, 0.25, (n_observationsss, dim))  # 1 missing, 0 seen\n",
        "\n",
        "X_orig, masks = clear_dataset(X_orig, masks)\n",
        "print(\"final shape \", X_orig.shape)\n",
        "y = X_orig @ b\n",
        "X_nan = X_orig.copy()\n",
        "X_nan[masks == 1] = np.nan\n",
        "print(\"end block\")"
      ],
      "metadata": {
        "colab": {
          "base_uri": "https://localhost:8080/"
        },
        "id": "ElCvHxBiO_2t",
        "outputId": "958e0a3f-6c59-483e-b54e-e0deaf2db230"
      },
      "execution_count": 96,
      "outputs": [
        {
          "output_type": "stream",
          "name": "stdout",
          "text": [
            "final shape  (10, 3)\n",
            "end block\n"
          ]
        }
      ]
    },
    {
      "cell_type": "code",
      "source": [
        "## original lasso\n",
        "fig, ax = plt.subplots(num='lasso')\n",
        "alphas_lasso, coefs_lasso, _ = get_lasso_path(X_orig, y)\n",
        "plot_coefs_l1norm(coefs_lasso, ax)"
      ],
      "metadata": {
        "colab": {
          "base_uri": "https://localhost:8080/",
          "height": 447
        },
        "id": "ZA7J67yAuQM8",
        "outputId": "45876e00-4e1c-497d-feec-d36e0efb4556"
      },
      "execution_count": 65,
      "outputs": [
        {
          "output_type": "stream",
          "name": "stdout",
          "text": [
            "you are printing coeff in function of l1 norm\n"
          ]
        },
        {
          "output_type": "display_data",
          "data": {
            "text/plain": [
              "<Figure size 640x480 with 1 Axes>"
            ],
            "image/png": "[encoded data removed]"
          },
          "metadata": {}
        }
      ]
    },
    {
      "cell_type": "code",
      "source": [
        "# training with original dataset X_orig\n",
        "fig, ax = plt.subplots(num='advtrain_linf')\n",
        "sd_orig = np.std(X_orig, axis=0)\n",
        "print(\"sd_orig \\n\", sd_orig)\n",
        "S_inv_orig = np.diag(1 / sd_orig)\n",
        "S_inv_orig = np.array([S_inv_orig] * n_observation)\n",
        "#S_inv_orig = np.diag(1 / sd_orig)\n",
        "print(\"orig shape\\n \", S_inv_orig.shape)\n",
        "print(\"orig shape\\n times vector\\n\", (S_inv_orig @ np.arange(dim)).shape)\n",
        "#S_inv_orig = np.eye(X_orig.shape[0])\n",
        "linfadvtrain = AdversarialTraining(X_orig, y, S_inv_orig, p=np.inf)\n",
        "estimator = lambda X, y, a:  linfadvtrain(adv_radius=a)\n",
        "alphas_adv, coefs_advtrain_linf  = get_path(X_orig, y, estimator, 1e1)\n",
        "plot_coefs_l1norm(coefs_advtrain_linf, ax)\n",
        "#plot_coefs(alphas_adv, coefs_advtrain_linf, ax)"
      ],
      "metadata": {
        "id": "N1uZArXkprXQ",
        "colab": {
          "base_uri": "https://localhost:8080/",
          "height": 745
        },
        "outputId": "50ceff8c-1b7d-42a3-adf9-73728706035e"
      },
      "execution_count": 97,
      "outputs": [
        {
          "output_type": "stream",
          "name": "stdout",
          "text": [
            "sd_orig \n",
            " [0.32245148 0.28217387 0.24382723]\n",
            "orig shape\n",
            "  (10, 3, 3)\n",
            "orig shape\n",
            " times vector\n",
            " (10, 3)\n",
            "3\n",
            "(10, 3, 3)\n",
            "ciao + shapeeeee (10,)\n",
            "ciao2\n",
            "ciao3\n",
            "ciao4\n"
          ]
        },
        {
          "output_type": "stream",
          "name": "stderr",
          "text": [
            "  0%|          | 0/200 [00:00<?, ?it/s]/usr/local/lib/python3.11/dist-packages/cvxpy/reductions/solvers/solving_chain_utils.py:41: UserWarning: The problem has an expression with dimension greater than 2. Defaulting to the SCIPY backend for canonicalization.\n",
            "  warnings.warn(UserWarning(\n",
            "100%|██████████| 200/200 [00:02<00:00, 94.74it/s]\n"
          ]
        },
        {
          "output_type": "stream",
          "name": "stdout",
          "text": [
            "you are printing coeff in function of l1 norm\n"
          ]
        },
        {
          "output_type": "display_data",
          "data": {
            "text/plain": [
              "<Figure size 640x480 with 1 Axes>"
            ],
            "image/png": "[encoded data removed]"
          },
          "metadata": {}
        }
      ]
    },
    {
      "cell_type": "code",
      "source": [
        "## random forest imputer\n",
        "from sklearn.ensemble import RandomForestRegressor\n",
        "rf_estimator = RandomForestRegressor(n_estimators=4, max_depth=10, bootstrap=True, max_samples=0.5, n_jobs=2, random_state=0)\n",
        "\n",
        "X_rf = single_imputation(X_nan, rf_estimator)\n",
        "print(X_rf.shape)\n",
        "sd_rf = np.std(X_rf, axis=0)\n",
        "S_inv_rf = np.diag(1 / sd_rf)\n",
        "print(\"std_orig: \\n\", np.std(X_orig, axis=0))\n",
        "print(\"std rf\\n \", sd_rf)\n",
        "fig, ax = plt.subplots(num='advtrain_linf_rf')\n",
        "linfadvtrain_rf = AdversarialTraining(X_rf, y, S_inv_rf, p=np.inf)\n",
        "estimator_rf = lambda X, y, a:  linfadvtrain_rf(adv_radius=a)\n",
        "alphas_adv, coefs_advtrain_linf_rf  = get_path(X_rf, y, estimator_rf, 1e1)\n",
        "plot_coefs_l1norm(coefs_advtrain_linf_rf, ax)\n"
      ],
      "metadata": {
        "colab": {
          "base_uri": "https://localhost:8080/"
        },
        "id": "uSgnV3aVXL1f",
        "outputId": "2cd125b5-3748-4fbf-e50d-f542dba9168e"
      },
      "execution_count": null,
      "outputs": [
        {
          "output_type": "stream",
          "name": "stderr",
          "text": [
            "/usr/local/lib/python3.11/dist-packages/sklearn/impute/_iterative.py:895: ConvergenceWarning: [IterativeImputer] Early stopping criterion not reached.\n",
            "  warnings.warn(\n"
          ]
        },
        {
          "output_type": "stream",
          "name": "stdout",
          "text": [
            "(300, 8)\n",
            "std_orig: \n",
            " [1.89437779 2.6366409  2.01401922 2.72839671 3.15527389 3.08809998\n",
            " 2.27970936 5.44525999]\n",
            "std rf\n",
            "  [1.7979924  2.55299921 1.96864074 2.63939221 3.0035545  2.98051431\n",
            " 2.10802015 5.08045866]\n"
          ]
        },
        {
          "output_type": "stream",
          "name": "stderr",
          "text": [
            " 83%|████████▎ | 166/200 [00:12<00:18,  1.81it/s]"
          ]
        }
      ]
    },
    {
      "cell_type": "code",
      "source": [
        "## iterative imputer Bayesian Ridge\n",
        "\n",
        "from sklearn.linear_model import BayesianRidge\n",
        "br_estimator = BayesianRidge()\n",
        "\n",
        "X_br = single_imputation(X_nan, br_estimator)\n",
        "sd_br = np.std(X_br, axis=0)\n",
        "S_inv_br = np.diag(1 / sd_br)\n",
        "print(\"std_orig: \\n\", np.std(X_orig, axis=0))\n",
        "print(\"std  br\\n \", sd_br)\n",
        "\n",
        "fig, ax = plt.subplots(num='advtrain_linf_br')\n",
        "linfadvtrain_br = AdversarialTraining(X_br, y, S_inv_br, p=np.inf)\n",
        "estimator_br = lambda X, y, a:  linfadvtrain_br(adv_radius=a)\n",
        "alphas_adv, coefs_advtrain_linf_br  = get_path(X_br, y, estimator_br, 1e4)\n",
        "plot_coefs_l1norm(coefs_advtrain_linf_br, ax)"
      ],
      "metadata": {
        "id": "pgNaP74gWAga"
      },
      "execution_count": null,
      "outputs": []
    },
    {
      "cell_type": "code",
      "source": [
        "## mean imputation\n",
        "from sklearn.impute import SimpleImputer\n",
        "\n",
        "imp_mean = SimpleImputer(missing_values=np.nan, strategy='mean')\n",
        "X_mean = imp_mean.fit_transform(X_nan)\n",
        "sd_mean = np.std(X_mean, axis=0)\n",
        "print(sd_mean)\n",
        "S_inv_mean = np.diag(1 / sd_mean)\n",
        "\n",
        "fig, ax = plt.subplots(num='advtrain_linf_mean')\n",
        "linfadvtrain_mean = AdversarialTraining(X_mean, y, S_inv_mean, p=np.inf)\n",
        "estimator_mean = lambda X, y, a:  linfadvtrain_mean(adv_radius=a)\n",
        "alphas_adv, coefs_advtrain_linf_mean  = get_path(X_mean, y, estimator_mean, 1e1)\n",
        "plot_coefs_l1norm(coefs_advtrain_linf_mean, ax)\n"
      ],
      "metadata": {
        "id": "u0kpCJCkFbcI"
      },
      "execution_count": null,
      "outputs": []
    },
    {
      "cell_type": "code",
      "source": [
        "# imputation elliptic\n",
        "\n",
        "mu = np.nanmean(X_nan, axis=0)\n",
        "print(\"means \", mu)\n",
        "delta = np.mean(masks) # parameter missingness\n",
        "print(\"delta \", delta)\n",
        "X_0 = np.nan_to_num(X_nan)\n",
        "print(\"nbr obs\", X_0.shape[0])\n",
        "S_ellp =  X_0.T @ X_0 / X_0.shape[0]\n",
        "S_ellp = (1/d - 1/(d**2)) * np.diag(np.diag(S_ellp)) + 1/(d**2) * S_ellp\n",
        "print(\"eig cov \", np.linalg.eigvalsh(S_ellp))\n",
        "X_ellp = imputation_elliptic(mu, S_ellp, X_nan, masks)\n",
        "S_inv_ellp = np.linalg.inv(S_ellp)  # other variance\n",
        "sd_inv_ellp = np.std(X_ellp, axis=0)\n",
        "print(\"sd ellp\", sd_inv_ellp)\n",
        "\n",
        "fig, ax = plt.subplots(num='advtrain_linf_ellp')\n",
        "linfadvtrain_ellp = AdversarialTraining(X_ellp, y, S_inv_ellp, p=np.inf)\n",
        "estimator_ellp = lambda X, y, a:  linfadvtrain_ellp(adv_radius=a)\n",
        "alphas_adv, coefs_advtrain_linf_ellp  = get_path(X_ellp, y, estimator_ellp, 1e1)\n",
        "plot_coefs_l1norm(coefs_advtrain_linf_ellp, ax)\n"
      ],
      "metadata": {
        "id": "2RYR4_BJhXjv"
      },
      "execution_count": null,
      "outputs": []
    },
    {
      "cell_type": "code",
      "source": [
        "# mi bayesian ridge\n",
        "\n",
        "number_multiple_imputed_datasets = 5\n",
        "X_mi = np.vstack(multiple_imputation(number_multiple_imputed_datasets, X_nan))\n",
        "sd_mi = np.std(X_mi, axis=0)\n",
        "print(\"std_orig: \\n\", np.std(X_orig, axis=0))\n",
        "print(\"sd_mi\\n \", sd_mi)\n",
        "S_inv_mi = np.diag(1 / sd_mi)\n",
        "yy = np.concatenate([y] * number_multiple_imputed_datasets)\n",
        "\n",
        "fig, ax = plt.subplots(num='advtrain_linf_mi')\n",
        "linfadvtrain_mi = AdversarialTraining(X_mi, yy, S_inv_mi, p=np.inf)\n",
        "estimator_mi = lambda X, y, a:  linfadvtrain_mi(adv_radius=a)\n",
        "alphas_adv, coefs_advtrain_linf_mi  = get_path(X_mi, yy, estimator_mi, 1e1)\n",
        "plot_coefs_l1norm(coefs_advtrain_linf_mi, ax)\n",
        "\n",
        "\n",
        "\n"
      ],
      "metadata": {
        "id": "6mlM-FR-OfL4"
      },
      "execution_count": null,
      "outputs": []
    },
    {
      "cell_type": "code",
      "source": [
        "Observations:\n",
        "\n",
        "-) If the data are np.random.randn(), all the graphs looks similar\n",
        "-) very caotic results if we multiply by a cov matrix\n"
      ],
      "metadata": {
        "id": "FgxEbR071wT-"
      },
      "execution_count": null,
      "outputs": []
    }
  ]
}