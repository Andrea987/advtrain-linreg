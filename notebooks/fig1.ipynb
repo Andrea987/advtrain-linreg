{
  "nbformat": 4,
  "nbformat_minor": 0,
  "metadata": {
    "colab": {
      "provenance": [],
      "include_colab_link": true
    },
    "kernelspec": {
      "name": "python3",
      "display_name": "Python 3"
    },
    "language_info": {
      "name": "python"
    }
  },
  "cells": [
    {
      "cell_type": "markdown",
      "metadata": {
        "id": "view-in-github",
        "colab_type": "text"
      },
      "source": [
        "<a href=\"https://colab.research.google.com/github/Andrea987/advtrain-linreg/blob/main/notebooks/fig1.ipynb\" target=\"_parent\"><img src=\"https://colab.research.google.com/assets/colab-badge.svg\" alt=\"Open In Colab\"/></a>"
      ]
    },
    {
      "cell_type": "code",
      "source": [],
      "metadata": {
        "id": "6Sgo-CifolM3"
      },
      "execution_count": null,
      "outputs": []
    },
    {
      "cell_type": "code",
      "execution_count": 9,
      "metadata": {
        "id": "ggDSA-ktpXgr",
        "colab": {
          "base_uri": "https://localhost:8080/"
        },
        "outputId": "b6023a7a-22e2-418b-bc99-edc4761c2420"
      },
      "outputs": [
        {
          "output_type": "stream",
          "name": "stdout",
          "text": [
            "['CLARABEL', 'CVXOPT', 'GLPK', 'GLPK_MI', 'HIGHS', 'OSQP', 'SCIPY', 'SCS']\n",
            "end block\n"
          ]
        }
      ],
      "source": [
        "from re import VERBOSE\n",
        "from itertools import cycle\n",
        "import numpy as np\n",
        "import matplotlib.pyplot as plt\n",
        "import matplotlib.patches as patches\n",
        "from sklearn.linear_model import lasso_path\n",
        "from sklearn import datasets\n",
        "from sklearn import linear_model\n",
        "from sklearn.experimental import enable_iterative_imputer\n",
        "from sklearn.impute import IterativeImputer\n",
        "import tqdm\n",
        "import cvxpy as cp\n",
        "print(cp.installed_solvers())\n",
        "import numpy as np\n",
        "\n",
        "import traceback\n",
        "\n",
        "\n",
        "def compute_q(p):\n",
        "    if p != np.inf and p > 1:\n",
        "        q = p / (p - 1)\n",
        "    elif p == 1:\n",
        "        q = np.inf\n",
        "    else:\n",
        "        q = 1\n",
        "    return q\n",
        "\n",
        "\n",
        "class AdversarialTraining:\n",
        "    def __init__(self, X, y, S_inv, p):  # S is the matrix such that ||S @ Dx||\\leq delta. As a consequence, S_inv appears in the unconstrained problem\n",
        "        m, n = X.shape\n",
        "        q = compute_q(p)\n",
        "        print(\"who is q \", q)\n",
        "        # Formulate problem\n",
        "        param = cp.Variable(n)\n",
        "        print(\"shape param \", param.shape)\n",
        "        print(\"dim \", n)\n",
        "        print(S_inv.shape)\n",
        "        print(\"S_inv \", S_inv)\n",
        "        partial = S_inv @ param  # should be (m * n,)\n",
        "        if S_inv.shape == (n, n):\n",
        "          print(\"S_inv (n, n)\")\n",
        "          param_norm = cp.pnorm(partial, p=q)\n",
        "        else:  # should be a stack of matrix\n",
        "          print(\"S_inv conc\")\n",
        "          print(\"shape partial 1\", partial.shape)\n",
        "          partial = cp.reshape(partial, (m, n), order='C')\n",
        "          print(\"shape partial \", partial.shape)\n",
        "          param_norm = cp.pnorm(partial, p=q, axis=1)\n",
        "        print(\"param_norm.shape\", param_norm.shape)\n",
        "        print(\"param_norm\\n\", param_norm)\n",
        "        adv_radius = cp.Parameter(name='adv_radius', nonneg=True)\n",
        "        print(\"ciao2\")\n",
        "        abs_error = cp.abs(X @ param - y)\n",
        "        print(\"abs_error.shape \", abs_error.shape)\n",
        "        print(\"ciao3\")\n",
        "        adv_loss = 1 / m * cp.sum((abs_error + adv_radius * param_norm) ** 2)\n",
        "        print(\"ciao4\")\n",
        "        prob = cp.Problem(cp.Minimize(adv_loss))\n",
        "        self.prob = prob\n",
        "        self.adv_radius = adv_radius\n",
        "        self.param = param\n",
        "        self.warm_start = False\n",
        "\n",
        "\n",
        "    def __call__(self, adv_radius, **kwargs):\n",
        "        try:\n",
        "            self.adv_radius.value = adv_radius\n",
        "            self.prob.solve(warm_start=self.warm_start, solver=cp.CLARABEL, max_iter=10000, **kwargs)\n",
        "            v = self.param.value\n",
        "        except Exception as e:\n",
        "          print(\"------------------> Error occurred:\")\n",
        "          traceback.print_exc()\n",
        "          v = np.zeros(self.param.shape)\n",
        "        #except:\n",
        "        #    print(\"----------------------> you are in except\")\n",
        "        #    v = np.zeros(self.param.shape)\n",
        "        return v\n",
        "\n",
        "\n",
        "def get_lasso_path(X, y, eps_lasso=1e-5):\n",
        "    alphas, coefs, _ = lasso_path(X, y, eps=eps_lasso)\n",
        "    coefs= np.concatenate([np.zeros([X.shape[1], 1]), coefs], axis=1)\n",
        "    alphas = np.concatenate([1e2 * np.ones([1]), alphas], axis=0)\n",
        "    return alphas, coefs, []\n",
        "\n",
        "\n",
        "def get_path(X, y, estimator, amax, eps=1e-5, n_alphas=200):\n",
        "    _, m = X.shape\n",
        "    amin = eps * amax\n",
        "    alphas = np.logspace(np.log10(amin), np.log10(amax), n_alphas)\n",
        "    coefs_ = []\n",
        "    for a in tqdm.tqdm(alphas):\n",
        "        coefs = estimator(X, y, a)\n",
        "        #print(\"alpha  \", a, \"coef: \", coefs)\n",
        "        coefs_.append(coefs if coefs is not None else np.zeros(m))\n",
        "    return alphas, np.stack((coefs_)).T\n",
        "\n",
        "\n",
        "def plot_coefs(alphas, coefs, ax):\n",
        "    print(\"you are printing coefs in function of 1/alphas\")\n",
        "    colors = cycle([\"b\", \"r\", \"g\", \"c\", \"k\"])\n",
        "    #l1norm = np.abs(coefs).sum(axis=0)\n",
        "    ax.set_xlabel(\"1/alphas\")\n",
        "    ax.set_ylabel(\"coef\")\n",
        "    for coef_l, c in zip(coefs, colors):\n",
        "        ax.semilogx(1/alphas, coef_l, c=c)\n",
        "        #ax.semilogx(1/alphas, l1norm, c=c)\n",
        "        #ax.plot(1/alphas, coef_l, c=c)\n",
        "\n",
        "\n",
        "def plot_coefs_l1norm(coefs, ax):\n",
        "    print(\"you are printing coeff in function of l1 norm\")\n",
        "    colors = cycle([\"b\", \"r\", \"g\", \"c\", \"k\"])\n",
        "    #l1norm = np.abs(coefs).mean(axis=0)\n",
        "    l1norm = np.abs(coefs).sum(axis=0)\n",
        "    #print(\"coef \", coefs)\n",
        "    #print(\"l1norm \", l1norm)\n",
        "    ax.set_xlabel(\"l1norm\")\n",
        "    ax.set_ylabel(\"coef\")\n",
        "    for coef_l, c in zip(coefs, colors):\n",
        "        ax.plot(l1norm, coef_l, c=c)\n",
        "\n",
        "\n",
        "def train_and_plot(X, y, S_inv, list_ax):\n",
        "    linfadvtrain = AdversarialTraining(X, y, S_inv, p=np.inf)\n",
        "    estimator = lambda X, y, a:  linfadvtrain(adv_radius=a)\n",
        "    alphas_adv, coefs_advtrain_linf  = get_path(X, y, estimator, 1e1)\n",
        "    plot_coefs_l1norm(coefs_advtrain_linf, list_ax[0])\n",
        "    plot_coefs(alphas_adv, coefs_advtrain_linf, list_ax[1])\n",
        "    return coefs_advtrain_linf\n",
        "\n",
        "\n",
        "def add_rectangles(x, y, box_width, box_height, ax):\n",
        "  for xi, yi in zip(x, y):\n",
        "      rect = patches.Rectangle(\n",
        "        (xi-box_width/2, yi-box_height/2),\n",
        "        box_width, box_height,\n",
        "        linewidth=1, edgecolor='r', facecolor='none'\n",
        "      )\n",
        "      ax.add_patch(rect)\n",
        "print(\"end block\")\n"
      ]
    },
    {
      "cell_type": "code",
      "source": [
        "# imputation's block\n",
        "\n",
        "def clear_dataset(x, masks):\n",
        "  # remove observations full NaN\n",
        "  M = np.sum(1 - masks, axis=1) > 0\n",
        "  return x[M, :], masks[M, :]\n",
        "\n",
        "\n",
        "def single_imputation(X_nan, impute_estimator):\n",
        "    ice = IterativeImputer(estimator=impute_estimator)\n",
        "    return ice.fit_transform(X_nan)\n",
        "\n",
        "\n",
        "def multiple_imputation(nbr_mi, X_nan):\n",
        "    n, d = X_nan.shape\n",
        "    res = np.zeros((nbr_mi, n, d))\n",
        "    for i in range(nbr_mi):\n",
        "       n_i = np.random.randint(0, 1000)\n",
        "       ice = IterativeImputer(random_state=n_i, max_iter=50, sample_posterior=True)\n",
        "       res[i, :, :] = ice.fit_transform(X_nan)\n",
        "       #print(\"fin res \", res)\n",
        "    return res\n",
        "\n",
        "\n",
        "def imputation_elliptic(mu, sigma, x, masks):\n",
        "  # mu, mean elliptical distribution (,d)\n",
        "  # sigma, cov matrix elliptical distribution (d, d)\n",
        "  # x: dataset (n, d)\n",
        "  # masks: mask data, 0 seen, 1 missing\n",
        "  n, d = x.shape\n",
        "  print(n, d)\n",
        "  x_imp = x.copy()\n",
        "  #print(\"x_imp clean\", x_imp)\n",
        "  for i in range(n):\n",
        "    if not (masks[i, :] == 0).all():  # if we have at least one missing component\n",
        "      #print(\"nbr : \", i)\n",
        "      x_c = x[i, :]\n",
        "      m_bool = (masks[i, :] == 0)  # True seen, False missing\n",
        "      sigma_aa_inv = np.linalg.inv(sigma[m_bool, :][:, m_bool])\n",
        "      sigma_ma = sigma[~m_bool, :][:, m_bool]\n",
        "      mu_cond = mu[~m_bool] + sigma_ma @ sigma_aa_inv @ (x_c[m_bool] - mu[m_bool])\n",
        "      x_imp[i, ~m_bool] = mu_cond\n",
        "  return x_imp\n",
        "\n"
      ],
      "metadata": {
        "id": "qyWskXpdOW9e"
      },
      "execution_count": 3,
      "outputs": []
    },
    {
      "cell_type": "code",
      "source": [
        "# define observations\n",
        "np.random.seed(45)\n",
        "n_observationsss = 300\n",
        "dim = 10\n",
        "#cov = np.random.randint(low=1, high=10, size=(d, d))\n",
        "#cov = np.random.randn(d, d)\n",
        "#cov = cov.T @ cov + np.eye(dim) * 1e-5\n",
        "#print(cov)\n",
        "#print(np.linalg.eigvalsh(cov))\n",
        "cov = np.eye(dim)\n",
        "X_orig = np.random.rand(n_observationsss, dim) @ cov\n",
        "#X_orig = np.random.randint(low=1, high=4, size=(n, d)) * 1.0\n",
        "#X -= X.mean(axis=0)\n",
        "#X /= X.std(axis=0)\n",
        "b = np.random.rand(dim)\n",
        "\n",
        "#L = np.linalg.cholesky(S)  # return L such that S = LL.T\n",
        "#L_inv = np.linalg.inv(L)\n",
        "#S_inv = L_inv.T @ L_inv\n",
        "\n",
        "masks = np.random.binomial(1, 0.25, (n_observationsss, dim))  # 1 missing, 0 seen\n",
        "\n",
        "X_orig, masks = clear_dataset(X_orig, masks)\n",
        "n_observationsss = X_orig.shape[0]\n",
        "print(\"shape \", X_orig.shape)\n",
        "print(\"final shape \", X_orig.shape)\n",
        "y = X_orig @ b\n",
        "X_nan = X_orig.copy()\n",
        "X_nan[masks == 1] = np.nan\n",
        "print(\"end block\")"
      ],
      "metadata": {
        "colab": {
          "base_uri": "https://localhost:8080/"
        },
        "id": "ElCvHxBiO_2t",
        "outputId": "bdfc3cce-dae7-4e5b-c3de-0d63e471a428"
      },
      "execution_count": null,
      "outputs": [
        {
          "output_type": "stream",
          "name": "stdout",
          "text": [
            "shape  (300, 10)\n",
            "final shape  (300, 10)\n",
            "end block\n"
          ]
        }
      ]
    },
    {
      "cell_type": "code",
      "source": [
        "## original lasso\n",
        "fig, ax = plt.subplots(num='lasso')\n",
        "alphas_lasso, coefs_lasso, _ = get_lasso_path(X_orig, y)\n",
        "plot_coefs_l1norm(coefs_lasso, ax)"
      ],
      "metadata": {
        "id": "ZA7J67yAuQM8"
      },
      "execution_count": null,
      "outputs": []
    },
    {
      "cell_type": "code",
      "source": [
        "# training with original dataset X_orig\n",
        "fig, ax = plt.subplots(num='advtrain_linf')\n",
        "sd_orig = np.std(X_orig, axis=0)\n",
        "print(\"sd_orig \\n\", sd_orig)\n",
        "S_inv_orig = np.diag(1 / sd_orig)\n",
        "#S_inv_orig = np.eye(dim)\n",
        "S_inv_orig = np.array([S_inv_orig] * n_observationsss)\n",
        "S_inv_orig = np.concatenate(S_inv_orig)\n",
        "print(\"S_inv_orig.shape \", S_inv_orig.shape)\n",
        "test = S_inv_orig @ np.arange(dim)\n",
        "#print(\"test mult\\n\", test)\n",
        "#print(\"test reshape \\n\", test.reshape(n_observationsss, dim, order='C'))\n",
        "#print(S_inv_orig)\n",
        "#S_inv_orig = np.diag(1 / sd_orig)\n",
        "#print(\"S_inv_orig shape\\n \", S_inv_orig.shape)\n",
        "#S_inv_orig = np.eye(X_orig.shape[0])\n",
        "linfadvtrain = AdversarialTraining(X_orig, y, S_inv_orig, p=np.inf)\n",
        "estimator = lambda X, y, a:  linfadvtrain(adv_radius=a)\n",
        "alphas_adv, coefs_advtrain_linf  = get_path(X_orig, y, estimator, 1e1)\n",
        "plot_coefs_l1norm(coefs_advtrain_linf, ax)\n",
        "#plot_coefs(alphas_adv, coefs_advtrain_linf, ax)"
      ],
      "metadata": {
        "id": "N1uZArXkprXQ"
      },
      "execution_count": null,
      "outputs": []
    },
    {
      "cell_type": "code",
      "source": [
        "# 2d toy example\n",
        "from sklearn.linear_model import BayesianRidge\n",
        "from sklearn.model_selection import train_test_split\n",
        "\n",
        "fig, ax = plt.subplots(3, 1, figsize=(10, 8), num='advtrain_linf_2d')\n",
        "\n",
        "\n",
        "def generate_masks_2d(nbr_of_sample, p_missing):\n",
        "    # nbr_of_sample is the number of masks\n",
        "    # p_missing=[p00, p01, p10], where p00 is the probability of seeing both components,\n",
        "    # p10 is the probability of seeing the right component, p01 is the probability of seeing the left component\n",
        "    masks = np.zeros((nbr_of_sample, 2))\n",
        "    # p_missing = [0.3, 0.3, 0.4]\n",
        "    v = np.random.choice(a=3, size=nbr_of_sample, p=p_missing)\n",
        "    masks[v == 0, :] = np.array([0, 0])  # both seen\n",
        "    masks[v == 1, :] = np.array([0, 1])  # left seen\n",
        "    masks[v == 2, :] = np.array([1, 0])  # right seen\n",
        "    return masks\n",
        "\n",
        "np.random.seed(42)\n",
        "nb_2d_train = 20\n",
        "nb_2d_test = 50\n",
        "nb_tot = nb_2d_train + nb_2d_test\n",
        "ts = nb_2d_test / nb_tot\n",
        "print(\"test size \", ts)\n",
        "beta_2d = np.array([0.5, 2])  # beta_true\n",
        "p_miss_2d = [0.2, 0.4, 0.4]\n",
        "mask_2d = generate_masks_2d(nb_2d_train, p_miss_2d)  # 1 missing, 0 observed\n",
        "M = np.sum(mask_2d, axis=1)  # M[i] > 0 iff i has missing component\n",
        "print(\"nbr component without missing entries \", np.sum(1-M))\n",
        "#print(mask_2d)\n",
        "print(\"print M, M[i] == 1 iff one component is missing\", M)\n",
        "X_complete_2d = np.random.randn(nb_2d_train + nb_2d_test, 2)\n",
        "y_complete_2d = X_complete_2d @ beta_2d + np.random.randn(nb_tot) * 1e-1\n",
        "\n",
        "X_train_2d, X_test_2d, y_train_2d, y_test_2d = train_test_split(X_complete_2d, y_complete_2d, test_size=ts, random_state=42)\n",
        "\n",
        "X_2d_masked = X_train_2d * (1 - mask_2d)\n",
        "print(mask_2d)\n",
        "print(X_2d_masked)\n",
        "\n",
        "X_nan_train_2d = X_train_2d.copy()\n",
        "X_nan_train_2d[mask_2d == 1] = np.nan\n",
        "#print(X_nan_2d)\n",
        "X_br_train_2d = single_imputation(X_nan_train_2d, BayesianRidge())\n",
        "sd = np.std(X_br_train_2d, axis=0)\n",
        "print(\"sd deviation columnwise: \", sd)\n",
        "#S_inv_2d = np.eye(2)\n",
        "S_inv_2d = np.diag(1 / sd) * 1\n",
        "plt.tight_layout()\n",
        "ax[0].scatter(X_br_train_2d[M == 0, 0], X_br_train_2d[M == 0, 1])\n",
        "ax[0].scatter(X_br_train_2d[M == 1, 0], X_br_train_2d[M == 1, 1])\n",
        "add_rectangles(X_br_train_2d[:, 0], X_br_train_2d[:, 1], S_inv_2d[0, 0], S_inv_2d[1, 1], ax[0])\n",
        "\n",
        "\n",
        "#def train_and_plot(X, y, S_inv, list_ax):\n",
        "#  linfadvtrain_2d = AdversarialTraining(X, y, S_inv, p=np.inf)\n",
        "#  estimator = lambda X, y, a:  linfadvtrain_2d(adv_radius=a)\n",
        "#  alphas_adv, coefs_advtrain_linf_2d  = get_path(X_br_train_2d, y_train_2d, estimator, 1e1)\n",
        "#  plot_coefs_l1norm(coefs_advtrain_linf_2d, list_ax[0])\n",
        "#  plot_coefs(alphas_adv, coefs_advtrain_linf_2d, list_ax[1])\n",
        "\n",
        "def best_predictor(X, coeff, y):\n",
        "  hat_y = (X @ coeff).T  # (n, d) @ (d, m) = (n, m)\n",
        "  print(\"size haty \", hat_y.shape)\n",
        "  r = hat_y - y  # residual\n",
        "  print(\"size r \", r.shape)\n",
        "  score = np.sum(r * r, axis=0)\n",
        "  i_min = np.argmin(score)\n",
        "  return coeff[:, i_min]\n",
        "\n",
        "\n",
        "coeff_res = train_and_plot(X_br_train_2d, y_train_2d, S_inv_2d, [ax[1], ax[2]])\n",
        "print(\"shape coeff \", coeff_res.shape)\n",
        "#print(\"coeff \", coeff_res.T)\n",
        "best_coeff = best_predictor(X_test_2d, coeff_res, y_test_2d)\n",
        "print(\"best coeff \", best_coeff)\n",
        "\n",
        "\n",
        "\n",
        "# could be interesting to make a confrontation with listwise delection (delete observation with one missing components)\n",
        "\n",
        "\n",
        "#linfadvtrain_2d = AdversarialTraining(X_br_train_2d, y_train_2d, S_inv_2d, p=np.inf)\n",
        "#estimator = lambda X, y, a:  linfadvtrain_2d(adv_radius=a)\n",
        "#alphas_adv, coefs_advtrain_linf_2d  = get_path(X_br_train_2d, y_train_2d, estimator, 1e1)\n",
        "#plot_coefs_l1norm(coefs_advtrain_linf_2d, ax[1])\n",
        "#plot_coefs(alphas_adv, coefs_advtrain_linf_2d, ax[2])\n",
        "\n",
        "#print(\"coef \", coefs_advtrain_linf_2d)\n",
        "\n",
        "\n",
        "\n"
      ],
      "metadata": {
        "colab": {
          "base_uri": "https://localhost:8080/",
          "height": 1000
        },
        "id": "-lnYAbHhiPC_",
        "outputId": "df64c63f-7f5a-4ad0-ba39-813e16d7e7c4"
      },
      "execution_count": 11,
      "outputs": [
        {
          "output_type": "stream",
          "name": "stdout",
          "text": [
            "test size  0.7142857142857143\n",
            "nbr component without missing entries  6.0\n",
            "print M, M[i] == 1 iff one component is missing [1. 1. 1. 1. 0. 0. 0. 1. 1. 1. 0. 1. 1. 1. 0. 0. 1. 1. 1. 1.]\n",
            "[[0. 1.]\n",
            " [1. 0.]\n",
            " [1. 0.]\n",
            " [0. 1.]\n",
            " [0. 0.]\n",
            " [0. 0.]\n",
            " [0. 0.]\n",
            " [1. 0.]\n",
            " [1. 0.]\n",
            " [1. 0.]\n",
            " [0. 0.]\n",
            " [1. 0.]\n",
            " [1. 0.]\n",
            " [0. 1.]\n",
            " [0. 0.]\n",
            " [0. 0.]\n",
            " [0. 1.]\n",
            " [0. 1.]\n",
            " [0. 1.]\n",
            " [0. 1.]]\n",
            "[[ 0.81252582  0.        ]\n",
            " [-0.          1.54993441]\n",
            " [-0.          0.18463386]\n",
            " [-1.32818605  0.        ]\n",
            " [-0.21967189  0.35711257]\n",
            " [ 0.52194157  0.29698467]\n",
            " [ 0.81351722 -1.23086432]\n",
            " [ 0.          0.96864499]\n",
            " [-0.          0.8219025 ]\n",
            " [-0.         -0.80227727]\n",
            " [-1.23695071 -1.32045661]\n",
            " [-0.         -1.4123037 ]\n",
            " [ 0.         -0.90938745]\n",
            " [ 0.33126343  0.        ]\n",
            " [ 1.46564877 -0.2257763 ]\n",
            " [-1.10633497 -1.19620662]\n",
            " [-0.83921752 -0.        ]\n",
            " [-0.78325329 -0.        ]\n",
            " [-1.47852199 -0.        ]\n",
            " [ 1.14282281  0.        ]]\n",
            "sd deviation columnwise:  [0.80465958 0.76865696]\n",
            "who is q  1\n",
            "shape param  (2,)\n",
            "dim  2\n",
            "(2, 2)\n",
            "S_inv  [[1.24276157 0.        ]\n",
            " [0.         1.30097046]]\n",
            "S_inv (n, n)\n",
            "param_norm.shape ()\n",
            "param_norm\n",
            " norm1([[1.24 0.00]\n",
            " [0.00 1.30]] @ var269)\n",
            "ciao2\n",
            "abs_error.shape  (20,)\n",
            "ciao3\n",
            "ciao4\n"
          ]
        },
        {
          "output_type": "stream",
          "name": "stderr",
          "text": [
            "100%|██████████| 200/200 [00:01<00:00, 140.12it/s]\n"
          ]
        },
        {
          "output_type": "stream",
          "name": "stdout",
          "text": [
            "you are printing coeff in function of l1 norm\n",
            "you are printing coefs in function of 1/alphas\n",
            "shape coeff  (2, 200)\n",
            "size haty  (200, 50)\n",
            "size r  (200, 50)\n",
            "best coeff  [1.03221216 1.67047116]\n"
          ]
        },
        {
          "output_type": "display_data",
          "data": {
            "text/plain": [
              "<Figure size 1000x800 with 3 Axes>"
            ],
            "image/png": "[encoded data removed]"
          },
          "metadata": {}
        }
      ]
    },
    {
      "cell_type": "code",
      "source": [
        "## random forest imputer\n",
        "from sklearn.ensemble import RandomForestRegressor\n",
        "rf_estimator = RandomForestRegressor(n_estimators=4, max_depth=10, bootstrap=True, max_samples=0.5, n_jobs=2, random_state=0)\n",
        "\n",
        "X_rf = single_imputation(X_nan, rf_estimator)\n",
        "print(X_rf.shape)\n",
        "sd_rf = np.std(X_rf, axis=0)\n",
        "S_inv_rf = np.diag(1 / sd_rf)\n",
        "print(\"std_orig: \\n\", np.std(X_orig, axis=0))\n",
        "print(\"std rf\\n \", sd_rf)\n",
        "fig, ax = plt.subplots(num='advtrain_linf_rf')\n",
        "linfadvtrain_rf = AdversarialTraining(X_rf, y, S_inv_rf, p=np.inf)\n",
        "estimator_rf = lambda X, y, a:  linfadvtrain_rf(adv_radius=a)\n",
        "alphas_adv, coefs_advtrain_linf_rf  = get_path(X_rf, y, estimator_rf, 1e1)\n",
        "plot_coefs_l1norm(coefs_advtrain_linf_rf, ax)\n"
      ],
      "metadata": {
        "id": "uSgnV3aVXL1f"
      },
      "execution_count": null,
      "outputs": []
    },
    {
      "cell_type": "code",
      "source": [
        "## iterative imputer Bayesian Ridge\n",
        "\n",
        "from sklearn.linear_model import BayesianRidge\n",
        "br_estimator = BayesianRidge()\n",
        "\n",
        "X_br = single_imputation(X_nan, br_estimator)\n",
        "sd_br = np.std(X_br, axis=0)\n",
        "S_inv_br = np.diag(1 / sd_br)\n",
        "print(\"std_orig: \\n\", np.std(X_orig, axis=0))\n",
        "print(\"std  br\\n \", sd_br)\n",
        "\n",
        "fig, ax = plt.subplots(num='advtrain_linf_br')\n",
        "linfadvtrain_br = AdversarialTraining(X_br, y, S_inv_br, p=np.inf)\n",
        "estimator_br = lambda X, y, a:  linfadvtrain_br(adv_radius=a)\n",
        "alphas_adv, coefs_advtrain_linf_br  = get_path(X_br, y, estimator_br, 1e4)\n",
        "plot_coefs_l1norm(coefs_advtrain_linf_br, ax)"
      ],
      "metadata": {
        "id": "pgNaP74gWAga"
      },
      "execution_count": null,
      "outputs": []
    },
    {
      "cell_type": "code",
      "source": [
        "## mean imputation\n",
        "from sklearn.impute import SimpleImputer\n",
        "\n",
        "imp_mean = SimpleImputer(missing_values=np.nan, strategy='mean')\n",
        "X_mean = imp_mean.fit_transform(X_nan)\n",
        "sd_mean = np.std(X_mean, axis=0)\n",
        "print(sd_mean)\n",
        "S_inv_mean = np.diag(1 / sd_mean)\n",
        "\n",
        "fig, ax = plt.subplots(num='advtrain_linf_mean')\n",
        "linfadvtrain_mean = AdversarialTraining(X_mean, y, S_inv_mean, p=np.inf)\n",
        "estimator_mean = lambda X, y, a:  linfadvtrain_mean(adv_radius=a)\n",
        "alphas_adv, coefs_advtrain_linf_mean  = get_path(X_mean, y, estimator_mean, 1e1)\n",
        "plot_coefs_l1norm(coefs_advtrain_linf_mean, ax)\n"
      ],
      "metadata": {
        "id": "u0kpCJCkFbcI"
      },
      "execution_count": null,
      "outputs": []
    },
    {
      "cell_type": "code",
      "source": [
        "# imputation elliptic\n",
        "\n",
        "mu = np.nanmean(X_nan, axis=0)\n",
        "print(\"means \", mu)\n",
        "delta = np.mean(masks) # parameter missingness\n",
        "print(\"delta \", delta)\n",
        "X_0 = np.nan_to_num(X_nan)\n",
        "print(\"nbr obs\", X_0.shape[0])\n",
        "S_ellp =  X_0.T @ X_0 / X_0.shape[0]\n",
        "S_ellp = (1/delta - 1/(delta**2)) * np.diag(np.diag(S_ellp)) + 1/(delta**2) * S_ellp\n",
        "print(\"eig cov \", np.linalg.eigvalsh(S_ellp))\n",
        "X_ellp = imputation_elliptic(mu, S_ellp, X_nan, masks)\n",
        "S_inv_ellp = np.linalg.inv(S_ellp)  # other variance\n",
        "sd_inv_ellp = np.std(X_ellp, axis=0)\n",
        "print(\"sd ellp\", sd_inv_ellp)\n",
        "\n",
        "fig, ax = plt.subplots(num='advtrain_linf_ellp')\n",
        "linfadvtrain_ellp = AdversarialTraining(X_ellp, y, S_inv_ellp, p=np.inf)\n",
        "estimator_ellp = lambda X, y, a:  linfadvtrain_ellp(adv_radius=a)\n",
        "alphas_adv, coefs_advtrain_linf_ellp  = get_path(X_ellp, y, estimator_ellp, 1e1)\n",
        "plot_coefs_l1norm(coefs_advtrain_linf_ellp, ax)\n"
      ],
      "metadata": {
        "id": "2RYR4_BJhXjv"
      },
      "execution_count": null,
      "outputs": []
    },
    {
      "cell_type": "code",
      "source": [
        "# mi bayesian ridge\n",
        "\n",
        "number_multiple_imputed_datasets = 5\n",
        "X_mi = np.vstack(multiple_imputation(number_multiple_imputed_datasets, X_nan))\n",
        "sd_mi = np.std(X_mi, axis=0)\n",
        "print(\"std_orig: \\n\", np.std(X_orig, axis=0))\n",
        "print(\"sd_mi\\n \", sd_mi)\n",
        "S_inv_mi = np.diag(1 / sd_mi)\n",
        "yy = np.concatenate([y] * number_multiple_imputed_datasets)\n",
        "\n",
        "fig, ax = plt.subplots(num='advtrain_linf_mi')\n",
        "linfadvtrain_mi = AdversarialTraining(X_mi, yy, S_inv_mi, p=np.inf)\n",
        "estimator_mi = lambda X, y, a:  linfadvtrain_mi(adv_radius=a)\n",
        "alphas_adv, coefs_advtrain_linf_mi  = get_path(X_mi, yy, estimator_mi, 1e1)\n",
        "plot_coefs_l1norm(coefs_advtrain_linf_mi, ax)\n",
        "\n",
        "\n",
        "\n"
      ],
      "metadata": {
        "id": "6mlM-FR-OfL4"
      },
      "execution_count": null,
      "outputs": []
    },
    {
      "cell_type": "code",
      "source": [
        "Observations:\n",
        "\n",
        "-) If the data are np.random.randn(), all the graphs looks similar\n",
        "-) very caotic results if we multiply by a cov matrix\n"
      ],
      "metadata": {
        "id": "FgxEbR071wT-"
      },
      "execution_count": null,
      "outputs": []
    },
    {
      "cell_type": "code",
      "source": [],
      "metadata": {
        "colab": {
          "base_uri": "https://localhost:8080/"
        },
        "id": "7pwDiPU0D_ks",
        "outputId": "56a47f07-4d4d-4ce6-fb97-e508fe0a86de"
      },
      "execution_count": null,
      "outputs": [
        {
          "output_type": "stream",
          "name": "stdout",
          "text": [
            "end block\n"
          ]
        }
      ]
    },
    {
      "cell_type": "code",
      "source": [
        "import matplotlib.pyplot as plt\n",
        "import matplotlib.patches as patches\n",
        "import numpy as np\n",
        "\n",
        "def add_rectangles(x, y, box_width, box_height, ax):\n",
        "  for xi, yi in zip(x, y):\n",
        "      rect = patches.Rectangle(\n",
        "        (xi-box_width/2, yi-box_height/2),\n",
        "        box_width, box_height,\n",
        "        linewidth=1, edgecolor='r', facecolor='none'\n",
        "      )\n",
        "      ax.add_patch(rect)\n",
        "      plt.show()\n",
        "\n",
        "# Example data\n",
        "x_test_rect = np.random.rand(10)\n",
        "y_test_rect = np.random.rand(10)\n",
        "\n",
        "# Plot the points\n",
        "fig, ax = plt.subplots()\n",
        "ax.scatter(x_test_rect, y_test_rect)\n",
        "\n",
        "width = 0.1\n",
        "height = 0.1\n",
        "\n",
        "add_rectangles(x_test_rect, y_test_rect, width, height, ax)\n",
        "\n",
        "# Add the rectangle to the plot\n"
      ],
      "metadata": {
        "id": "-9qaVcwZUB6w",
        "colab": {
          "base_uri": "https://localhost:8080/",
          "height": 430
        },
        "outputId": "f453b465-ab0e-4fb2-e6f0-7d51d2786107"
      },
      "execution_count": null,
      "outputs": [
        {
          "output_type": "display_data",
          "data": {
            "text/plain": [
              "<Figure size 640x480 with 1 Axes>"
            ],
            "image/png": "[encoded data removed]"
          },
          "metadata": {}
        }
      ]
    },
    {
      "cell_type": "code",
      "source": [
        "x = np.random.randint(1, 10, size=10)\n",
        "print(x)\n",
        "print(np.reshape(x, (2, 5), order='C'))"
      ],
      "metadata": {
        "colab": {
          "base_uri": "https://localhost:8080/"
        },
        "id": "7WZeO2EOWHwz",
        "outputId": "0171afe9-fb54-4dd9-a324-cf298d705b30"
      },
      "execution_count": null,
      "outputs": [
        {
          "output_type": "stream",
          "name": "stdout",
          "text": [
            "[7 4 1 5 3 8 5 7 3 8]\n",
            "[[7 4 1 5 3]\n",
            " [8 5 7 3 8]]\n"
          ]
        }
      ]
    }
  ]
}